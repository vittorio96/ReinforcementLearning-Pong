{
 "cells": [
  {
   "cell_type": "markdown",
   "metadata": {
    "colab_type": "text",
    "id": "NwMPjUElF7Ju"
   },
   "source": [
    "# Deep Reinforcement Learning - Policy Gradient"
   ]
  },
  {
   "cell_type": "markdown",
   "metadata": {
    "colab_type": "text",
    "id": "Ohf2nu6rHFa0"
   },
   "source": [
    "## 1) RL background\n",
    "\n",
    "* **Agent**: the one who is learning to win or get more rewards/ benefits.\n",
    "\n",
    "* **Environment**: the world that the agent can interact with. The agent sees states and takes actions based on what he sees.\n",
    "\n",
    "* **Reward**: the agent gets rewards or punishments based on his actions. We can think of low reward or negative reward as punishment. \n",
    "\n",
    "* **Policy**: the mindset of agent. The agent sees the current situation (state) and chooses an action. So the policy is a function of state, that outputs some actions:\n",
    "\n",
    " * action = f(state)\n",
    "\n",
    " We call the above f function, policy.\n"
   ]
  },
  {
   "cell_type": "markdown",
   "metadata": {
    "colab_type": "text",
    "id": "CEhqinCqO_of"
   },
   "source": [
    "## 2) Policy Gradient method\n",
    "\n",
    "Policy gradient is a method that trains the policy functions by gradients. Basically in each training, we push the policy to take good actions more bad actions less.\n",
    "\n",
    "Here we use a Neural Network as policy and a Policy Gradient algorithm called REINFORCE.\n",
    "\n",
    "Here follows how REINFORCE algorithm works:\n",
    "\n",
    "* first initialize random parameters **θ**\n",
    "\n",
    "* loop forever :\n",
    "\n",
    "  1.   play and generate episode from start state using current policy -> **S<sub>0</sub>, A<sub>0</sub>, R<sub>1</sub>, S<sub>1</sub>, A<sub>1</sub>, R<sub>2</sub>, ..., S<sub>T-1</sub>, A<sub>T-1</sub>, R<sub>T</sub>**\n",
    "  2.   loop for each timestep t=0, 1, ..., T-1. Compute reward from the timestep G. Update the policy parameters: **θ = θ + αG∇<sub>θ</sub>log(π)**\n",
    "\n",
    "**π** is the probablity of taking the action that we took when playing.\n",
    "\n",
    "**θ** are the Neural Network parameters in last layer. \n",
    "\n",
    "**G** is the reward from the state we are updating. \n",
    "\n",
    "**α** is the learning rate. \n",
    "\n",
    "**S0** is the initial state, **A0** is the action that agent selected after observing  S0, and **R1** is the reward given to the agent by the environment after taking action A0.\n",
    " \n",
    "The agent continues to play until he wins or loses or the game ends at time T, and we save the states and actions and rewards for each state.\n",
    "\n",
    "It is noticeable that the formula mentioned above is similar to Gradient Descent with **-log(π)** as loss: **θ=θ−αG∇<sub>θ</sub>(−log(π))**\n",
    "\n",
    "\n",
    "The learning rate is multiplied by G, so if we get a high reward, we move much more in the direction of grad descent, while if we are punished and got a minus reward we move in opposite direction.\n",
    "\n",
    "In the learning phase the policy outputs the probability of each action and we sample from that probability. In the playing phase we pick the most probable action or just sample like the training phase."
   ]
  },
  {
   "cell_type": "markdown",
   "metadata": {
    "colab_type": "text",
    "id": "Wn05TOWhTu0R"
   },
   "source": [
    "## 3) Preprocessing"
   ]
  },
  {
   "cell_type": "code",
   "execution_count": 1,
   "metadata": {
    "colab": {
     "base_uri": "https://localhost:8080/",
     "height": 80
    },
    "colab_type": "code",
    "id": "NW6FjUmGF3hQ",
    "outputId": "284e09fd-9c54-42c8-84a6-3dc61030357c"
   },
   "outputs": [
    {
     "name": "stderr",
     "output_type": "stream",
     "text": [
      "Using TensorFlow backend.\n"
     ]
    }
   ],
   "source": [
    "import keras\n",
    "import gym \n",
    "import numpy as np\n",
    "import datetime"
   ]
  },
  {
   "cell_type": "code",
   "execution_count": 2,
   "metadata": {
    "colab": {
     "base_uri": "https://localhost:8080/",
     "height": 122
    },
    "colab_type": "code",
    "id": "NQI1dt-ElT6J",
    "outputId": "dc36d8f3-3135-4923-a980-d60deaf6b0de"
   },
   "outputs": [],
   "source": [
    "#from google.colab import drive\n",
    "#drive.mount('/content/drive')"
   ]
  },
  {
   "cell_type": "code",
   "execution_count": 3,
   "metadata": {
    "colab": {},
    "colab_type": "code",
    "id": "BhLrOvxoUuQc"
   },
   "outputs": [],
   "source": [
    "import matplotlib.pyplot as plt\n",
    "%matplotlib inline"
   ]
  },
  {
   "cell_type": "code",
   "execution_count": 4,
   "metadata": {
    "colab": {
     "base_uri": "https://localhost:8080/",
     "height": 34
    },
    "colab_type": "code",
    "id": "GHUJ3DNfUuQf",
    "outputId": "bb620976-7906-49ad-a6a9-8fb7b721318b"
   },
   "outputs": [
    {
     "data": {
      "text/plain": [
       "(210, 160, 3)"
      ]
     },
     "execution_count": 4,
     "metadata": {},
     "output_type": "execute_result"
    }
   ],
   "source": [
    "env = gym.make('Pong-v0')\n",
    "observation = env.reset()\n",
    "observation.shape"
   ]
  },
  {
   "cell_type": "markdown",
   "metadata": {
    "colab_type": "text",
    "id": "_ll7RX7wUuQk"
   },
   "source": [
    "Image of size 210*160 with 3 channels (rgb)"
   ]
  },
  {
   "cell_type": "code",
   "execution_count": 5,
   "metadata": {
    "colab": {
     "base_uri": "https://localhost:8080/",
     "height": 286
    },
    "colab_type": "code",
    "id": "d9km_qGiUuQl",
    "outputId": "157efeb2-a7fe-4d5c-f847-6c012a39ab94"
   },
   "outputs": [
    {
     "data": {
      "text/plain": [
       "<matplotlib.image.AxesImage at 0xb30a2b860>"
      ]
     },
     "execution_count": 5,
     "metadata": {},
     "output_type": "execute_result"
    },
    {
     "data": {
      "image/png": "[encoded data removed]",
      "text/plain": [
       "<Figure size 432x288 with 1 Axes>"
      ]
     },
     "metadata": {
      "needs_background": "light"
     },
     "output_type": "display_data"
    }
   ],
   "source": [
    "plt.imshow(observation)"
   ]
  },
  {
   "cell_type": "code",
   "execution_count": 6,
   "metadata": {
    "colab": {
     "base_uri": "https://localhost:8080/",
     "height": 286
    },
    "colab_type": "code",
    "id": "b3YFeXtOUuQo",
    "outputId": "3939e0c9-45b6-416f-882d-44aeea7fc0b0"
   },
   "outputs": [
    {
     "data": {
      "text/plain": [
       "<matplotlib.image.AxesImage at 0xb30b4fa90>"
      ]
     },
     "execution_count": 6,
     "metadata": {},
     "output_type": "execute_result"
    },
    {
     "data": {
      "image/png": "[encoded data removed]",
      "text/plain": [
       "<Figure size 432x288 with 1 Axes>"
      ]
     },
     "metadata": {
      "needs_background": "light"
     },
     "output_type": "display_data"
    }
   ],
   "source": [
    "#take some steps to see middle game scene\n",
    "for i in range(30):\n",
    "    observation, reward, done, info = env.step(0) # 0 to not move, 2 to move paddle up, 3 to move paddle down \n",
    "plt.imshow(observation)"
   ]
  },
  {
   "cell_type": "markdown",
   "metadata": {
    "colab_type": "text",
    "id": "_vmYdT0WQo1y"
   },
   "source": [
    "When the ball goes to end right, we get reward of -1 for losing, while if the ball crosses the opponent and reaches the left, we get a reward of +1. Game finishes if one of the players reach 21 score.\n",
    "\n",
    "The definition of system in reinforcement learning method is simple:\n",
    "\n",
    "\n",
    "*   state is the screen of game.\n",
    "*   action is going up or down\n",
    "\n",
    "\n",
    "\n"
   ]
  },
  {
   "cell_type": "code",
   "execution_count": 7,
   "metadata": {
    "colab": {
     "base_uri": "https://localhost:8080/",
     "height": 286
    },
    "colab_type": "code",
    "id": "X9IukRuDUuQr",
    "outputId": "7d8d6c74-a639-4a53-a2e4-9a408a2d8b50"
   },
   "outputs": [
    {
     "data": {
      "text/plain": [
       "<matplotlib.image.AxesImage at 0xb30bf27b8>"
      ]
     },
     "execution_count": 7,
     "metadata": {},
     "output_type": "execute_result"
    },
    {
     "data": {
      "image/png": "[encoded data removed]",
      "text/plain": [
       "<Figure size 432x288 with 1 Axes>"
      ]
     },
     "metadata": {
      "needs_background": "light"
     },
     "output_type": "display_data"
    }
   ],
   "source": [
    "new_observation, reward, done, info = env.step(2)\n",
    "plt.imshow(new_observation)"
   ]
  },
  {
   "cell_type": "markdown",
   "metadata": {
    "colab_type": "text",
    "id": "vY5-sJroUuQu"
   },
   "source": [
    "In order to use a neural network as policy, we need to convey enough information so it can learn where the ball is moving. In the above images, **it is not clear whether the ball is moving left or right**.\n",
    "As simple solution to this problem, we **subtract two consecutive frames** and feed the resulting image to the network as input."
   ]
  },
  {
   "cell_type": "code",
   "execution_count": 8,
   "metadata": {
    "colab": {},
    "colab_type": "code",
    "id": "xVkgx_3VUuQv"
   },
   "outputs": [],
   "source": [
    "def preprocess_frames(new_frame,last_frame):\n",
    "    # inputs are 2 numpy 2d arrays\n",
    "    n_frame = new_frame.astype(np.int32)\n",
    "    n_frame[(n_frame==144)|(n_frame==109)]=0 # remove backgound colors\n",
    "    l_frame = last_frame.astype(np.int32)\n",
    "    l_frame[(l_frame==144)|(l_frame==109)]=0 # remove backgound colors\n",
    "    diff = n_frame - l_frame\n",
    "    # crop top and bot \n",
    "    diff = diff[35:195]\n",
    "    # down sample \n",
    "    diff=diff[::2,::2]\n",
    "    # convert to grayscale\n",
    "    diff = diff[:,:,0] * 299. / 1000 + diff[:,:,1] * 587. / 1000 + diff[:,:,2] * 114. / 1000\n",
    "    \n",
    "    # rescale numbers \n",
    "    max_val =diff.max() if diff.max()> abs(diff.min()) else abs(diff.min())\n",
    "    if max_val != 0:\n",
    "        diff=diff/max_val\n",
    "    \n",
    "    return diff"
   ]
  },
  {
   "cell_type": "code",
   "execution_count": 9,
   "metadata": {
    "colab": {
     "base_uri": "https://localhost:8080/",
     "height": 285
    },
    "colab_type": "code",
    "id": "4_KZlfCcUuQz",
    "outputId": "15ca55c0-8f91-412c-97e3-f161dcd277a7"
   },
   "outputs": [
    {
     "data": {
      "text/plain": [
       "<matplotlib.image.AxesImage at 0xb30c7a2e8>"
      ]
     },
     "execution_count": 9,
     "metadata": {},
     "output_type": "execute_result"
    },
    {
     "data": {
      "image/png": "[encoded data removed]",
      "text/plain": [
       "<Figure size 432x288 with 1 Axes>"
      ]
     },
     "metadata": {
      "needs_background": "light"
     },
     "output_type": "display_data"
    }
   ],
   "source": [
    "plt.imshow(preprocess_frames(new_observation,observation),plt.cm.gray)"
   ]
  },
  {
   "cell_type": "markdown",
   "metadata": {
    "colab_type": "text",
    "id": "iXwqVIsIUuQ2"
   },
   "source": [
    "Bottom and top of screen are cropped because they did not give any information, as well as the colours that are removed. Moreover, pixel values are rescaled between -1 and +1."
   ]
  },
  {
   "cell_type": "code",
   "execution_count": 10,
   "metadata": {
    "colab": {
     "base_uri": "https://localhost:8080/",
     "height": 153
    },
    "colab_type": "code",
    "id": "8GOncORqUuQ4",
    "outputId": "84cf8f54-c70c-4332-8764-068500908e80"
   },
   "outputs": [
    {
     "name": "stdout",
     "output_type": "stream",
     "text": [
      "(80, 80)\n"
     ]
    },
    {
     "data": {
      "text/plain": [
       "array([[0., 0., 0., ..., 0., 0., 0.],\n",
       "       [0., 0., 0., ..., 0., 0., 0.],\n",
       "       [0., 0., 0., ..., 0., 0., 0.],\n",
       "       ...,\n",
       "       [0., 0., 0., ..., 0., 0., 0.],\n",
       "       [0., 0., 0., ..., 0., 0., 0.],\n",
       "       [0., 0., 0., ..., 0., 0., 0.]])"
      ]
     },
     "execution_count": 10,
     "metadata": {},
     "output_type": "execute_result"
    }
   ],
   "source": [
    "print(preprocess_frames(new_observation,observation).shape)\n",
    "preprocess_frames(new_observation,observation)"
   ]
  },
  {
   "cell_type": "markdown",
   "metadata": {
    "colab_type": "text",
    "id": "j7CQMHQVUuQ7"
   },
   "source": [
    "Image 80*80 derived by subtracting two consecutive frames, where most values are 0. Where paddles or ball have moved, it has non-zero values."
   ]
  },
  {
   "cell_type": "markdown",
   "metadata": {
    "colab_type": "text",
    "id": "_3VRwlT8T0cW"
   },
   "source": [
    "## 4) Model definition\n",
    "\n",
    "We define a network with an architecture that inputs a 80*80 image and outputs the probability of going up."
   ]
  },
  {
   "cell_type": "code",
   "execution_count": 11,
   "metadata": {
    "colab": {
     "base_uri": "https://localhost:8080/",
     "height": 411
    },
    "colab_type": "code",
    "id": "2jce8LAlUuQ8",
    "outputId": "82a97a2b-483c-414e-a870-2fc11f37e3d7"
   },
   "outputs": [
    {
     "name": "stdout",
     "output_type": "stream",
     "text": [
      "Model: \"model_1\"\n",
      "_________________________________________________________________\n",
      "Layer (type)                 Output Shape              Param #   \n",
      "=================================================================\n",
      "input_1 (InputLayer)         (None, 80, 80)            0         \n",
      "_________________________________________________________________\n",
      "flatten_1 (Flatten)          (None, 6400)              0         \n",
      "_________________________________________________________________\n",
      "dense_1 (Dense)              (None, 200)               1280000   \n",
      "_________________________________________________________________\n",
      "dense_2 (Dense)              (None, 1)                 200       \n",
      "=================================================================\n",
      "Total params: 1,280,200\n",
      "Trainable params: 1,280,200\n",
      "Non-trainable params: 0\n",
      "_________________________________________________________________\n"
     ]
    }
   ],
   "source": [
    "# 2 layers model \n",
    "# 200 hidden units in first layer\n",
    "# 1 sigmoid output\n",
    "inputs = keras.layers.Input(shape=(80,80))\n",
    "flattened_layer = keras.layers.Flatten()(inputs)\n",
    "full_connected = keras.layers.Dense(units=200,activation='relu',use_bias=False,)(flattened_layer)\n",
    "sigmoid_output = keras.layers.Dense(1,activation='sigmoid',use_bias=False)(full_connected)\n",
    "policy_network_model = keras.models.Model(inputs=inputs,outputs=sigmoid_output)\n",
    "policy_network_model.summary()"
   ]
  },
  {
   "cell_type": "markdown",
   "metadata": {
    "colab_type": "text",
    "id": "gPHBk_foUuRA"
   },
   "source": [
    "\n",
    "## 5) Loss definition\n",
    "\n",
    "keras loss function has format: def loss(y_true,y_pred): ... . \n",
    "\n",
    "Since we needed to include the reward in loss, we created m_loss function below as a tool to input episode_reward as input."
   ]
  },
  {
   "cell_type": "code",
   "execution_count": 12,
   "metadata": {
    "colab": {},
    "colab_type": "code",
    "id": "djEAe0IYUuRE"
   },
   "outputs": [],
   "source": [
    "def m_loss(episode_reward):\n",
    "    def loss(y_true,y_pred):\n",
    "        # feed in y_true as actual action taken \n",
    "        # if actual action was up, we feed 1 as y_true and otherwise 0\n",
    "        # y_pred is the network output(probablity of taking up action)\n",
    "        # note that we dont feed y_pred to network. keras computes it.\n",
    "        \n",
    "        # we clip y_pred between some values because log(0) and log(1) are undefined\n",
    "        tmp_pred = keras.layers.Lambda(lambda x: keras.backend.clip(x,0.05,0.95))(y_pred)\n",
    "        # we calculate log of probablity. y_pred is the probablity of taking up action.\n",
    "        # note that y_true is 1 when we actually chose up, and 0 when we chose down.\n",
    "        # this is similar to cross enthropy formula in keras, but here we write it manually to multiply it by the reward value\n",
    "        tmp_loss = keras.layers.Lambda(lambda x:-y_true*keras.backend.log(x)-(1-y_true)*(keras.backend.log(1-x)))(tmp_pred)\n",
    "        # multiply log of policy by reward\n",
    "        policy_loss=keras.layers.Multiply()([tmp_loss,episode_reward])\n",
    "        return policy_loss\n",
    "    return loss"
   ]
  },
  {
   "cell_type": "markdown",
   "metadata": {
    "colab_type": "text",
    "id": "w2mb4xXIbqxN"
   },
   "source": [
    "We create the optimizer and the network for training.\n",
    "\n",
    "We input both rewards and the inputs(processed 80*80 image). The output of the network is the same.\n",
    "\n",
    "Since both policy_network_train and policy_network_model (defined in previous section) use same layers (from inputs to outputs), they share their weights and parameters. So we just train using policy_network_train and then use policy_network_model when playing and simulating."
   ]
  },
  {
   "cell_type": "code",
   "execution_count": 13,
   "metadata": {
    "colab": {
     "base_uri": "https://localhost:8080/",
     "height": 105
    },
    "colab_type": "code",
    "id": "EI9m099TUuRG",
    "outputId": "ac1e4879-64b0-4bf3-c61c-0c56d543ce23"
   },
   "outputs": [],
   "source": [
    "episode_reward = keras.layers.Input(shape=(1,),name='episode_reward')\n",
    "policy_network_train = keras.models.Model(inputs=[inputs,episode_reward],outputs=sigmoid_output)\n",
    "my_optimizer = keras.optimizers.RMSprop(lr=0.0001)\n",
    "policy_network_train.compile(optimizer=my_optimizer,loss=m_loss(episode_reward),)"
   ]
  },
  {
   "cell_type": "markdown",
   "metadata": {
    "colab_type": "text",
    "id": "bx9VwZR0cOTp"
   },
   "source": [
    "## 6) Episode generation\n",
    "\n",
    "We define a function that takes a policy, plays according to the policy and keeps the rewards."
   ]
  },
  {
   "cell_type": "code",
   "execution_count": 14,
   "metadata": {
    "colab": {},
    "colab_type": "code",
    "id": "NWsPvsAVUuRI"
   },
   "outputs": [],
   "source": [
    "def generate_episode(policy_network):\n",
    "    states_list = [] # shape = (x, 80, 80)\n",
    "    up_or_down_action_list=[] # 1 if we chose up. 0 if down\n",
    "    rewards_list=[]\n",
    "    network_output_list=[]\n",
    "    env=gym.make(\"Pong-v0\")\n",
    "    observation = env.reset()\n",
    "    new_observation = observation\n",
    "    done = False\n",
    "    policy_output_list = []\n",
    "    \n",
    "    while done == False:\n",
    "    \n",
    "        processed_network_input = preprocess_frames(new_frame=new_observation,last_frame=observation)\n",
    "        states_list.append(processed_network_input)\n",
    "        reshaped_input = np.expand_dims(processed_network_input,axis=0) # x shape is (80,80) so we need similar reshape(x,(1,80,80))\n",
    "\n",
    "        up_probability = policy_network.predict(reshaped_input,batch_size=1)[0][0]\n",
    "        network_output_list.append(up_probability)\n",
    "        policy_output_list.append(up_probability)\n",
    "        actual_action = np.random.choice(a=[2,3],size=1,p=[up_probability,1-up_probability]) # 2 is up. 3 is down \n",
    "        if actual_action==2:\n",
    "            up_or_down_action_list.append(1)\n",
    "        else:\n",
    "            up_or_down_action_list.append(0)\n",
    "        \n",
    "        observation= new_observation\n",
    "        new_observation, reward, done, info = env.step(actual_action)\n",
    "        \n",
    "        rewards_list.append(reward)\n",
    "        \n",
    "        if done:\n",
    "            break\n",
    "            \n",
    "    env.close()\n",
    "    return states_list,up_or_down_action_list,rewards_list,network_output_list"
   ]
  },
  {
   "cell_type": "markdown",
   "metadata": {
    "colab_type": "text",
    "id": "QByhVUL7dPzk"
   },
   "source": [
    "Let's play a game and see what is the output."
   ]
  },
  {
   "cell_type": "code",
   "execution_count": 15,
   "metadata": {
    "colab": {
     "base_uri": "https://localhost:8080/",
     "height": 241
    },
    "colab_type": "code",
    "id": "8r9MWawMUuRL",
    "outputId": "4b914de2-7ca3-48b6-9fe7-30521dab9bca"
   },
   "outputs": [],
   "source": [
    "states_list,up_or_down_action_list,rewards_list,network_output_list = generate_episode(policy_network_model)"
   ]
  },
  {
   "cell_type": "code",
   "execution_count": 16,
   "metadata": {
    "colab": {
     "base_uri": "https://localhost:8080/",
     "height": 68
    },
    "colab_type": "code",
    "id": "JW1f0izgUuRN",
    "outputId": "42da5d0c-ea66-4ccc-d0e3-6b74fdc035e5"
   },
   "outputs": [
    {
     "name": "stdout",
     "output_type": "stream",
     "text": [
      "length of states= 1188\n",
      "shape of each state=(80, 80)\n",
      "length of rewards= 1188\n"
     ]
    }
   ],
   "source": [
    "print(\"length of states= \"+str(len(states_list)))# this is the number of frames\n",
    "print(\"shape of each state=\"+str(states_list[0].shape))\n",
    "print(\"length of rewards= \"+str(len(rewards_list)))"
   ]
  },
  {
   "cell_type": "code",
   "execution_count": 17,
   "metadata": {
    "colab": {
     "base_uri": "https://localhost:8080/",
     "height": 54
    },
    "colab_type": "code",
    "id": "_GIJqfBtUuRR",
    "outputId": "670424d4-13d1-49f2-9cb6-fdac27e462bd"
   },
   "outputs": [
    {
     "name": "stdout",
     "output_type": "stream",
     "text": [
      "[0.5107068, 0.5110312, 0.5005014, 0.50189096, 0.52663267, 0.50009865, 0.50269914, 0.50019795, 0.4950057, 0.52642375, 0.4993386, 0.48787838, 0.5144545, 0.51750946, 0.49464855, 0.48362303, 0.49699566, 0.50043446, 0.49214283, 0.5264404]\n"
     ]
    }
   ],
   "source": [
    "# sample of policy output\n",
    "print(network_output_list[30:50]) "
   ]
  },
  {
   "cell_type": "markdown",
   "metadata": {
    "colab_type": "text",
    "id": "6Dhhf2koefML"
   },
   "source": [
    "Since the network is not trained, its output is about 50% all time, meaning that it does not know which action is better and outputs a probablity of about 0.5 for all states."
   ]
  },
  {
   "cell_type": "code",
   "execution_count": 18,
   "metadata": {
    "colab": {
     "base_uri": "https://localhost:8080/",
     "height": 34
    },
    "colab_type": "code",
    "id": "fm-EFeMzUuRW",
    "outputId": "abf82539-4c8f-47d3-b9e9-75aee53f8040"
   },
   "outputs": [
    {
     "data": {
      "text/plain": [
       "[1, 0, 0, 1, 1, 1, 0, 0, 1, 1, 0, 0, 0, 0, 1, 0, 0, 0, 1, 1]"
      ]
     },
     "execution_count": 18,
     "metadata": {},
     "output_type": "execute_result"
    }
   ],
   "source": [
    "# sample of what the agent did: 1 means it went up, 0 means down\n",
    "up_or_down_action_list[30:50]"
   ]
  },
  {
   "cell_type": "code",
   "execution_count": 19,
   "metadata": {
    "colab": {
     "base_uri": "https://localhost:8080/",
     "height": 54
    },
    "colab_type": "code",
    "id": "qzC5KsAlUuRZ",
    "outputId": "1d16853b-bdb2-4211-e00f-947fbbb4b64b"
   },
   "outputs": [
    {
     "name": "stdout",
     "output_type": "stream",
     "text": [
      "[0.0, 0.0, 0.0, 0.0, 0.0, 0.0, 0.0, 0.0, 0.0, 0.0, 0.0, 0.0, 0.0, 0.0, 0.0, 0.0, 0.0, 0.0, 0.0, 0.0, 0.0, 0.0, 0.0, 0.0, 0.0, 0.0, 0.0, 0.0, 0.0, 0.0, 0.0, 0.0, 0.0, 0.0, -1.0, 0.0, 0.0, 0.0, 0.0, 0.0, 0.0, 0.0, 0.0, 0.0, 0.0, 0.0, 0.0, 0.0, 0.0, 0.0]\n"
     ]
    }
   ],
   "source": [
    "# sample of rewards\n",
    "print(rewards_list[50:100]) "
   ]
  },
  {
   "cell_type": "code",
   "execution_count": 20,
   "metadata": {
    "colab": {
     "base_uri": "https://localhost:8080/",
     "height": 68
    },
    "colab_type": "code",
    "id": "_dUoEqZgUuRd",
    "outputId": "d2352705-9838-4439-ca57-cf2870c71f52"
   },
   "outputs": [
    {
     "name": "stdout",
     "output_type": "stream",
     "text": [
      "count win=0\n",
      "count lose=21\n",
      "count zero rewards=1167\n"
     ]
    }
   ],
   "source": [
    "# how many times we won through whole game:\n",
    "print(\"count win=\"+str(len(list(filter(lambda r: r>0,rewards_list)))))\n",
    "print(\"count lose=\"+str(len(list(filter(lambda r: r<0,rewards_list)))))\n",
    "print(\"count zero rewards=\"+str(len(list(filter(lambda r: r==0,rewards_list)))))"
   ]
  },
  {
   "cell_type": "code",
   "execution_count": 21,
   "metadata": {
    "colab": {
     "base_uri": "https://localhost:8080/",
     "height": 265
    },
    "colab_type": "code",
    "id": "biPbwy5lUuRi",
    "outputId": "6f3a5eb3-2f2d-4bd3-dcb7-c625a0d71d47"
   },
   "outputs": [
    {
     "data": {
      "image/png": "[encoded data removed]",
      "text/plain": [
       "<Figure size 432x288 with 1 Axes>"
      ]
     },
     "metadata": {
      "needs_background": "light"
     },
     "output_type": "display_data"
    }
   ],
   "source": [
    "plt.plot(rewards_list,'.')\n",
    "ax=plt.gca()\n",
    "ax.grid(True)"
   ]
  },
  {
   "cell_type": "markdown",
   "metadata": {
    "colab_type": "text",
    "id": "tbh0Sg2QgHFd"
   },
   "source": [
    "If we train our network with this reward, it learns nothing\n",
    "because the reward is most of the time zero: most gradients become zero because we multiply by reward in the above mentioned algorithm.\n",
    "\n",
    "Notice now that only the action that we took to hit the ball was important to get the reward +1. Everything after hitting the ball was irrelevant to our win. A similar argument can be discussed about losing: the action near when we got score of -1 is more important than actions taken many steps earlier.\n",
    "\n",
    "So we set the reward of actions taken before each reward, similar to the reward obtained.\n",
    "\n",
    "For example if we got reward +1 at time 100, we say that reward of time 99 is +0.99, reward of time 98 is +0.98 and so on.\n",
    "\n",
    "With this reward definition, we have the rewards for actions that actually resulted in a +1 or -1. and we assume the more recent the action to the reward gained, the more important it is."
   ]
  },
  {
   "cell_type": "code",
   "execution_count": 22,
   "metadata": {
    "colab": {},
    "colab_type": "code",
    "id": "1T2j1dOEUuRk"
   },
   "outputs": [],
   "source": [
    "def process_rewards(r_list):\n",
    "    reward_decay=0.99\n",
    "    tmp_r=0\n",
    "    rew=np.zeros_like(r_list,dtype=np.float32)\n",
    "    for i in range(len(r_list)-1,-1,-1):\n",
    "        if r_list[i]==0:\n",
    "            tmp_r=tmp_r*reward_decay\n",
    "            rew[i]=tmp_r\n",
    "        else: \n",
    "            tmp_r = r_list[i]\n",
    "            rew[i]=tmp_r\n",
    "    return rew"
   ]
  },
  {
   "cell_type": "code",
   "execution_count": 23,
   "metadata": {
    "colab": {
     "base_uri": "https://localhost:8080/",
     "height": 265
    },
    "colab_type": "code",
    "id": "dATYDb7IUuRn",
    "outputId": "6cd5f40d-894b-4b21-ca6a-65a4ace5759a"
   },
   "outputs": [
    {
     "data": {
      "image/png": "[encoded data removed]",
      "text/plain": [
       "<Figure size 432x288 with 1 Axes>"
      ]
     },
     "metadata": {
      "needs_background": "light"
     },
     "output_type": "display_data"
    }
   ],
   "source": [
    "# this gives us:\n",
    "plt.plot(process_rewards(rewards_list),'-')\n",
    "ax=plt.gca()\n",
    "ax.grid(True)"
   ]
  },
  {
   "cell_type": "markdown",
   "metadata": {
    "colab_type": "text",
    "id": "MhJyGwI-momr"
   },
   "source": [
    "Now we rewrite the process_rewards function normalizing the rewards, subtracting by mean and dividing by std deviation."
   ]
  },
  {
   "cell_type": "code",
   "execution_count": 24,
   "metadata": {
    "colab": {},
    "colab_type": "code",
    "id": "PBfgPh2PUuRp"
   },
   "outputs": [],
   "source": [
    "def process_rewards(r_list):\n",
    "    reward_decay=0.99\n",
    "    tmp_r=0\n",
    "    rew=np.zeros_like(r_list,dtype=np.float32)\n",
    "    for i in range(len(r_list)-1,-1,-1):\n",
    "        if r_list[i]==0:\n",
    "            tmp_r=tmp_r*reward_decay\n",
    "            rew[i]=tmp_r\n",
    "        else: \n",
    "            tmp_r = r_list[i]\n",
    "            rew[i]=tmp_r\n",
    "    rew -= np.mean(rew) # subtract by average\n",
    "    rew /= np.std(rew) # divide by std\n",
    "    return rew"
   ]
  },
  {
   "cell_type": "code",
   "execution_count": 25,
   "metadata": {
    "colab": {
     "base_uri": "https://localhost:8080/",
     "height": 265
    },
    "colab_type": "code",
    "id": "skbM_RuaUuRs",
    "outputId": "89f6fd18-0c21-469a-9ffd-0d7fe863f4e2"
   },
   "outputs": [
    {
     "data": {
      "image/png": "[encoded data removed]",
      "text/plain": [
       "<Figure size 432x288 with 1 Axes>"
      ]
     },
     "metadata": {
      "needs_background": "light"
     },
     "output_type": "display_data"
    }
   ],
   "source": [
    "plt.plot(process_rewards(rewards_list),'-',)\n",
    "ax=plt.gca()\n",
    "ax.grid(True)"
   ]
  },
  {
   "cell_type": "markdown",
   "metadata": {
    "colab_type": "text",
    "id": "g277X2QjnUVt"
   },
   "source": [
    "We got some positive scores in our new chart. This is because we subtracted by mean. Setting a positive score at the beginning of losing sequences could be justified by the fact that we approve actions where we catched the ball and did not get -1 reward immediately."
   ]
  },
  {
   "cell_type": "markdown",
   "metadata": {
    "colab_type": "text",
    "id": "fckkwhB8nww7"
   },
   "source": [
    "## 7) Training\n",
    "\n",
    "We generate some episodes, then train on the batch. We also write a script to save the model in a file."
   ]
  },
  {
   "cell_type": "code",
   "execution_count": 26,
   "metadata": {
    "colab": {},
    "colab_type": "code",
    "id": "LT9ZIKu-UuR9"
   },
   "outputs": [],
   "source": [
    "# we define a helper function to create a batch of simulations. After the batch simulations, we preprocess data and fit the network. \n",
    "def generate_episode_batches_and_train_network(n_batches=10):\n",
    "    env = gym.make('Pong-v0')\n",
    "    batch_state_list=[]\n",
    "    batch_up_or_down_action_list=[]\n",
    "    batch_rewards_list=[]\n",
    "    batch_network_output_list=[]\n",
    "    for i in range(n_batches):\n",
    "        states_list,up_or_down_action_list,rewards_list,network_output_list = generate_episode(policy_network_model)   \n",
    "        batch_state_list.extend(states_list[15:])\n",
    "        batch_network_output_list.extend(network_output_list[15:])\n",
    "        batch_up_or_down_action_list.extend(up_or_down_action_list[15:])\n",
    "        batch_rewards_list.extend(rewards_list[15:])\n",
    "    \n",
    "    episode_reward=np.expand_dims(process_rewards(batch_rewards_list),1)\n",
    "    x=np.array(batch_state_list)\n",
    "    y_tmp = np.array(batch_up_or_down_action_list)\n",
    "    y_true = np.expand_dims(y_tmp,1)\n",
    "    policy_network_train.fit(x=[x,episode_reward],y=y_true)\n",
    "\n",
    "    return batch_state_list,batch_up_or_down_action_list,batch_rewards_list,batch_network_output_list"
   ]
  },
  {
   "cell_type": "code",
   "execution_count": 28,
   "metadata": {
    "colab": {
     "base_uri": "https://localhost:8080/",
     "height": 1000
    },
    "colab_type": "code",
    "id": "BFKJTUXIUuSA",
    "outputId": "aed77e7b-00cf-48eb-bdbb-ecac6f7cfbf5"
   },
   "outputs": [
    {
     "name": "stdout",
     "output_type": "stream",
     "text": [
      "Epoch 1/1\n",
      "13270/13270 [==============================] - 8s 618us/step - loss: 3.2655e-04\n",
      "i=0\n",
      "count win=6\n",
      "Epoch 1/1\n",
      "13869/13869 [==============================] - 9s 618us/step - loss: -1.4208e-04\n"
     ]
    },
    {
     "ename": "KeyboardInterrupt",
     "evalue": "",
     "output_type": "error",
     "traceback": [
      "\u001b[0;31m---------------------------------------------------------------------------\u001b[0m",
      "\u001b[0;31mKeyboardInterrupt\u001b[0m                         Traceback (most recent call last)",
      "\u001b[0;32m<ipython-input-28-7614c02926d2>\u001b[0m in \u001b[0;36m<module>\u001b[0;34m\u001b[0m\n\u001b[1;32m      1\u001b[0m \u001b[0mtrain_n_times\u001b[0m \u001b[0;34m=\u001b[0m \u001b[0;36m3500\u001b[0m\u001b[0;34m\u001b[0m\u001b[0;34m\u001b[0m\u001b[0m\n\u001b[1;32m      2\u001b[0m \u001b[0;32mfor\u001b[0m \u001b[0mi\u001b[0m \u001b[0;32min\u001b[0m \u001b[0mrange\u001b[0m\u001b[0;34m(\u001b[0m\u001b[0mtrain_n_times\u001b[0m\u001b[0;34m)\u001b[0m\u001b[0;34m:\u001b[0m\u001b[0;34m\u001b[0m\u001b[0;34m\u001b[0m\u001b[0m\n\u001b[0;32m----> 3\u001b[0;31m     \u001b[0mstates_list\u001b[0m\u001b[0;34m,\u001b[0m\u001b[0mup_or_down_action_list\u001b[0m\u001b[0;34m,\u001b[0m\u001b[0mrewards_list\u001b[0m\u001b[0;34m,\u001b[0m\u001b[0mnetwork_output_list\u001b[0m\u001b[0;34m=\u001b[0m\u001b[0mgenerate_episode_batches_and_train_network\u001b[0m\u001b[0;34m(\u001b[0m\u001b[0;36m10\u001b[0m\u001b[0;34m)\u001b[0m\u001b[0;34m\u001b[0m\u001b[0;34m\u001b[0m\u001b[0m\n\u001b[0m\u001b[1;32m      4\u001b[0m     \u001b[0;32mif\u001b[0m \u001b[0mi\u001b[0m\u001b[0;34m%\u001b[0m\u001b[0;36m10\u001b[0m\u001b[0;34m==\u001b[0m\u001b[0;36m0\u001b[0m\u001b[0;34m:\u001b[0m\u001b[0;34m\u001b[0m\u001b[0;34m\u001b[0m\u001b[0m\n\u001b[1;32m      5\u001b[0m         \u001b[0mprint\u001b[0m\u001b[0;34m(\u001b[0m\u001b[0;34m\"i=\"\u001b[0m\u001b[0;34m+\u001b[0m\u001b[0mstr\u001b[0m\u001b[0;34m(\u001b[0m\u001b[0mi\u001b[0m\u001b[0;34m)\u001b[0m\u001b[0;34m)\u001b[0m\u001b[0;34m\u001b[0m\u001b[0;34m\u001b[0m\u001b[0m\n",
      "\u001b[0;32m<ipython-input-26-3622de65c514>\u001b[0m in \u001b[0;36mgenerate_episode_batches_and_train_network\u001b[0;34m(n_batches)\u001b[0m\n\u001b[1;32m      7\u001b[0m     \u001b[0mbatch_network_output_list\u001b[0m\u001b[0;34m=\u001b[0m\u001b[0;34m[\u001b[0m\u001b[0;34m]\u001b[0m\u001b[0;34m\u001b[0m\u001b[0;34m\u001b[0m\u001b[0m\n\u001b[1;32m      8\u001b[0m     \u001b[0;32mfor\u001b[0m \u001b[0mi\u001b[0m \u001b[0;32min\u001b[0m \u001b[0mrange\u001b[0m\u001b[0;34m(\u001b[0m\u001b[0mn_batches\u001b[0m\u001b[0;34m)\u001b[0m\u001b[0;34m:\u001b[0m\u001b[0;34m\u001b[0m\u001b[0;34m\u001b[0m\u001b[0m\n\u001b[0;32m----> 9\u001b[0;31m         \u001b[0mstates_list\u001b[0m\u001b[0;34m,\u001b[0m\u001b[0mup_or_down_action_list\u001b[0m\u001b[0;34m,\u001b[0m\u001b[0mrewards_list\u001b[0m\u001b[0;34m,\u001b[0m\u001b[0mnetwork_output_list\u001b[0m \u001b[0;34m=\u001b[0m \u001b[0mgenerate_episode\u001b[0m\u001b[0;34m(\u001b[0m\u001b[0mpolicy_network_model\u001b[0m\u001b[0;34m)\u001b[0m\u001b[0;34m\u001b[0m\u001b[0;34m\u001b[0m\u001b[0m\n\u001b[0m\u001b[1;32m     10\u001b[0m         \u001b[0mbatch_state_list\u001b[0m\u001b[0;34m.\u001b[0m\u001b[0mextend\u001b[0m\u001b[0;34m(\u001b[0m\u001b[0mstates_list\u001b[0m\u001b[0;34m[\u001b[0m\u001b[0;36m15\u001b[0m\u001b[0;34m:\u001b[0m\u001b[0;34m]\u001b[0m\u001b[0;34m)\u001b[0m\u001b[0;34m\u001b[0m\u001b[0;34m\u001b[0m\u001b[0m\n\u001b[1;32m     11\u001b[0m         \u001b[0mbatch_network_output_list\u001b[0m\u001b[0;34m.\u001b[0m\u001b[0mextend\u001b[0m\u001b[0;34m(\u001b[0m\u001b[0mnetwork_output_list\u001b[0m\u001b[0;34m[\u001b[0m\u001b[0;36m15\u001b[0m\u001b[0;34m:\u001b[0m\u001b[0;34m]\u001b[0m\u001b[0;34m)\u001b[0m\u001b[0;34m\u001b[0m\u001b[0;34m\u001b[0m\u001b[0m\n",
      "\u001b[0;32m<ipython-input-14-0bade8a3f002>\u001b[0m in \u001b[0;36mgenerate_episode\u001b[0;34m(policy_network)\u001b[0m\n\u001b[1;32m     12\u001b[0m     \u001b[0;32mwhile\u001b[0m \u001b[0mdone\u001b[0m \u001b[0;34m==\u001b[0m \u001b[0;32mFalse\u001b[0m\u001b[0;34m:\u001b[0m\u001b[0;34m\u001b[0m\u001b[0;34m\u001b[0m\u001b[0m\n\u001b[1;32m     13\u001b[0m \u001b[0;34m\u001b[0m\u001b[0m\n\u001b[0;32m---> 14\u001b[0;31m         \u001b[0mprocessed_network_input\u001b[0m \u001b[0;34m=\u001b[0m \u001b[0mpreprocess_frames\u001b[0m\u001b[0;34m(\u001b[0m\u001b[0mnew_frame\u001b[0m\u001b[0;34m=\u001b[0m\u001b[0mnew_observation\u001b[0m\u001b[0;34m,\u001b[0m\u001b[0mlast_frame\u001b[0m\u001b[0;34m=\u001b[0m\u001b[0mobservation\u001b[0m\u001b[0;34m)\u001b[0m\u001b[0;34m\u001b[0m\u001b[0;34m\u001b[0m\u001b[0m\n\u001b[0m\u001b[1;32m     15\u001b[0m         \u001b[0mstates_list\u001b[0m\u001b[0;34m.\u001b[0m\u001b[0mappend\u001b[0m\u001b[0;34m(\u001b[0m\u001b[0mprocessed_network_input\u001b[0m\u001b[0;34m)\u001b[0m\u001b[0;34m\u001b[0m\u001b[0;34m\u001b[0m\u001b[0m\n\u001b[1;32m     16\u001b[0m         \u001b[0mreshaped_input\u001b[0m \u001b[0;34m=\u001b[0m \u001b[0mnp\u001b[0m\u001b[0;34m.\u001b[0m\u001b[0mexpand_dims\u001b[0m\u001b[0;34m(\u001b[0m\u001b[0mprocessed_network_input\u001b[0m\u001b[0;34m,\u001b[0m\u001b[0maxis\u001b[0m\u001b[0;34m=\u001b[0m\u001b[0;36m0\u001b[0m\u001b[0;34m)\u001b[0m \u001b[0;31m# x shape is (80,80) so we need similar reshape(x,(1,80,80))\u001b[0m\u001b[0;34m\u001b[0m\u001b[0;34m\u001b[0m\u001b[0m\n",
      "\u001b[0;32m<ipython-input-8-cd52270eb041>\u001b[0m in \u001b[0;36mpreprocess_frames\u001b[0;34m(new_frame, last_frame)\u001b[0m\n\u001b[1;32m      2\u001b[0m     \u001b[0;31m# inputs are 2 numpy 2d arrays\u001b[0m\u001b[0;34m\u001b[0m\u001b[0;34m\u001b[0m\u001b[0;34m\u001b[0m\u001b[0m\n\u001b[1;32m      3\u001b[0m     \u001b[0mn_frame\u001b[0m \u001b[0;34m=\u001b[0m \u001b[0mnew_frame\u001b[0m\u001b[0;34m.\u001b[0m\u001b[0mastype\u001b[0m\u001b[0;34m(\u001b[0m\u001b[0mnp\u001b[0m\u001b[0;34m.\u001b[0m\u001b[0mint32\u001b[0m\u001b[0;34m)\u001b[0m\u001b[0;34m\u001b[0m\u001b[0;34m\u001b[0m\u001b[0m\n\u001b[0;32m----> 4\u001b[0;31m     \u001b[0mn_frame\u001b[0m\u001b[0;34m[\u001b[0m\u001b[0;34m(\u001b[0m\u001b[0mn_frame\u001b[0m\u001b[0;34m==\u001b[0m\u001b[0;36m144\u001b[0m\u001b[0;34m)\u001b[0m\u001b[0;34m|\u001b[0m\u001b[0;34m(\u001b[0m\u001b[0mn_frame\u001b[0m\u001b[0;34m==\u001b[0m\u001b[0;36m109\u001b[0m\u001b[0;34m)\u001b[0m\u001b[0;34m]\u001b[0m\u001b[0;34m=\u001b[0m\u001b[0;36m0\u001b[0m \u001b[0;31m# remove backgound colors\u001b[0m\u001b[0;34m\u001b[0m\u001b[0;34m\u001b[0m\u001b[0m\n\u001b[0m\u001b[1;32m      5\u001b[0m     \u001b[0ml_frame\u001b[0m \u001b[0;34m=\u001b[0m \u001b[0mlast_frame\u001b[0m\u001b[0;34m.\u001b[0m\u001b[0mastype\u001b[0m\u001b[0;34m(\u001b[0m\u001b[0mnp\u001b[0m\u001b[0;34m.\u001b[0m\u001b[0mint32\u001b[0m\u001b[0;34m)\u001b[0m\u001b[0;34m\u001b[0m\u001b[0;34m\u001b[0m\u001b[0m\n\u001b[1;32m      6\u001b[0m     \u001b[0ml_frame\u001b[0m\u001b[0;34m[\u001b[0m\u001b[0;34m(\u001b[0m\u001b[0ml_frame\u001b[0m\u001b[0;34m==\u001b[0m\u001b[0;36m144\u001b[0m\u001b[0;34m)\u001b[0m\u001b[0;34m|\u001b[0m\u001b[0;34m(\u001b[0m\u001b[0ml_frame\u001b[0m\u001b[0;34m==\u001b[0m\u001b[0;36m109\u001b[0m\u001b[0;34m)\u001b[0m\u001b[0;34m]\u001b[0m\u001b[0;34m=\u001b[0m\u001b[0;36m0\u001b[0m \u001b[0;31m# remove backgound colors\u001b[0m\u001b[0;34m\u001b[0m\u001b[0;34m\u001b[0m\u001b[0m\n",
      "\u001b[0;31mKeyboardInterrupt\u001b[0m: "
     ]
    }
   ],
   "source": [
    "train_n_times = 3500\n",
    "for i in range(train_n_times):\n",
    "    states_list,up_or_down_action_list,rewards_list,network_output_list=generate_episode_batches_and_train_network(10)\n",
    "    if i%10==0:\n",
    "        print(\"i=\"+str(i))\n",
    "        rr=np.array(rewards_list)\n",
    "        # i keeps how many times we won in batch\n",
    "        print('count win='+str(len(rr[rr>0]))) \n",
    "        policy_network_model.save(\"policy_network_model_simple.h5\")\n",
    "        policy_network_model.save(\"policy_network_model_simple\"+str(i)+\".h5\")\n",
    "        with open('rews_model_simple.txt','a') as f_rew:\n",
    "            f_rew.write(\"i=\"+str(i)+'       reward= '+str(len(rr[rr > 0])))\n",
    "            f_rew.write(\"\\n\")"
   ]
  },
  {
   "cell_type": "markdown",
   "metadata": {
    "colab_type": "text",
    "id": "3RtfwbmdpIak"
   },
   "source": [
    "## 8) Playing"
   ]
  },
  {
   "cell_type": "code",
   "execution_count": 30,
   "metadata": {
    "colab": {},
    "colab_type": "code",
    "id": "GmuaUWxUUuSG"
   },
   "outputs": [],
   "source": [
    "import time\n",
    "def play_and_show_episode(policy_network):\n",
    "    env = gym.make('Pong-v0')\n",
    "    done=False\n",
    "    observation = env.reset()\n",
    "    new_observation = observation\n",
    "    while done==False:\n",
    "        time.sleep(1/80)\n",
    "        \n",
    "        processed_network_input = preprocess_frames(new_frame=new_observation,last_frame=observation)\n",
    "        reshaped_input = np.expand_dims(processed_network_input,axis=0) # x shape is (80,80) so we need similar reshape(x,(1,80,80))\n",
    "\n",
    "        up_probability = policy_network.predict(reshaped_input,batch_size=1)[0][0]\n",
    "        actual_action = np.random.choice(a=[2,3],size=1,p=[up_probability,1-up_probability])\n",
    "        \n",
    "        env.render()\n",
    "        \n",
    "        observation= new_observation\n",
    "        new_observation, reward, done, info = env.step(actual_action)\n",
    "        if reward!=0:\n",
    "            print(reward)\n",
    "        if done:\n",
    "            break\n",
    "        \n",
    "    env.close()"
   ]
  },
  {
   "cell_type": "code",
   "execution_count": null,
   "metadata": {
    "colab": {},
    "colab_type": "code",
    "id": "kLlvtaskUuSJ"
   },
   "outputs": [],
   "source": [
    "play_and_show_episode(policy_network_model)"
   ]
  },
  {
   "cell_type": "markdown",
   "metadata": {
    "colab_type": "text",
    "id": "2ZiL6iJ6qi-3"
   },
   "source": [
    "## 9) Load model from file"
   ]
  },
  {
   "cell_type": "code",
   "execution_count": 41,
   "metadata": {
    "colab": {},
    "colab_type": "code",
    "id": "9sHGHzu5UuSK"
   },
   "outputs": [
    {
     "name": "stdout",
     "output_type": "stream",
     "text": [
      "Model: \"model_1\"\n",
      "_________________________________________________________________\n",
      "Layer (type)                 Output Shape              Param #   \n",
      "=================================================================\n",
      "input_1 (InputLayer)         (None, 80, 80)            0         \n",
      "_________________________________________________________________\n",
      "flatten_1 (Flatten)          (None, 6400)              0         \n",
      "_________________________________________________________________\n",
      "dense_1 (Dense)              (None, 200)               1280000   \n",
      "_________________________________________________________________\n",
      "dense_2 (Dense)              (None, 1)                 200       \n",
      "=================================================================\n",
      "Total params: 1,280,200\n",
      "Trainable params: 1,280,200\n",
      "Non-trainable params: 0\n",
      "_________________________________________________________________\n"
     ]
    }
   ],
   "source": [
    "policy_network_model=keras.models.load_model(\"policy_network_model_simple170.h5\")\n",
    "policy_network_model.summary()"
   ]
  },
  {
   "cell_type": "code",
   "execution_count": 47,
   "metadata": {
    "colab": {},
    "colab_type": "code",
    "id": "lxFVvyiFUuSS"
   },
   "outputs": [
    {
     "name": "stdout",
     "output_type": "stream",
     "text": [
      "-1.0\n",
      "-1.0\n",
      "-1.0\n",
      "-1.0\n",
      "-1.0\n",
      "-1.0\n",
      "-1.0\n",
      "1.0\n",
      "-1.0\n",
      "-1.0\n",
      "-1.0\n",
      "-1.0\n",
      "-1.0\n",
      "1.0\n",
      "-1.0\n",
      "-1.0\n",
      "-1.0\n",
      "-1.0\n",
      "-1.0\n",
      "1.0\n",
      "-1.0\n",
      "1.0\n",
      "-1.0\n",
      "-1.0\n",
      "-1.0\n"
     ]
    }
   ],
   "source": [
    "play_and_show_episode(policy_network_model)"
   ]
  },
  {
   "cell_type": "code",
   "execution_count": null,
   "metadata": {},
   "outputs": [],
   "source": []
  }
 ],
 "metadata": {
  "accelerator": "GPU",
  "colab": {
   "collapsed_sections": [],
   "name": "RL.ipynb",
   "provenance": []
  },
  "kernelspec": {
   "display_name": "Python 3",
   "language": "python",
   "name": "python3"
  },
  "language_info": {
   "codemirror_mode": {
    "name": "ipython",
    "version": 3
   },
   "file_extension": ".py",
   "mimetype": "text/x-python",
   "name": "python",
   "nbconvert_exporter": "python",
   "pygments_lexer": "ipython3",
   "version": "3.6.8"
  }
 },
 "nbformat": 4,
 "nbformat_minor": 1
}
